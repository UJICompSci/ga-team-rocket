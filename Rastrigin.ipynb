{
 "cells": [
  {
   "cell_type": "markdown",
   "metadata": {},
   "source": [
    "# The Rastrigin function\n",
    "\n",
    "This notebook is adapted from [a Pyevolve example](http://pyevolve.sourceforge.net/0_6rc1/examples.html#example-7-the-rastrigin-function).\n",
    "\n",
    "[<img src=\"img/Rastrigin_function.png\" align=\"right\" width=320>](http://en.wikipedia.org/wiki/Rastrigin_function)\n",
    "\n",
    "[From Wikipedia, the free encyclopedia](https://en.wikipedia.org/wiki/Rastrigin_function): in mathematical optimization, the Rastrigin function is a non-convex function used as a performance test problem for optimization algorithms. It is a typical example of non-linear multimodal function. It was first proposed by Rastrigin as a 2-dimensional function and has been generalized by Mühlenbein et al. Finding the minimum of this function is a fairly difficult problem due to its large search space and its large number of local minima.\n",
    "\n",
    "Below is the code to minimize the deceptive [Rastrigin function](http://en.wikipedia.org/wiki/Rastrigin_function) in a 20-dimensional space, i.e. with 20 parameters.\n",
    "\n",
    "You should add the necessary statements for storing the results in a database named 'rastrigin.db' with identifier 'ex1', which will be used later for checking the evolution."
   ]
  },
  {
   "cell_type": "code",
   "execution_count": 20,
   "metadata": {
    "collapsed": true
   },
   "outputs": [],
   "source": [
    "from pyevolve import GSimpleGA\n",
    "from pyevolve import G1DList\n",
    "from pyevolve import Mutators, Initializators\n",
    "from pyevolve import Selectors\n",
    "from pyevolve import Consts\n",
    "import math"
   ]
  },
  {
   "cell_type": "code",
   "execution_count": 21,
   "metadata": {
    "collapsed": true
   },
   "outputs": [],
   "source": [
    "def rastrigin(genome):\n",
    "    n = len(genome)\n",
    "    total = 0\n",
    "    for i in xrange(n):\n",
    "        total += genome[i]**2 - 10*math.cos(2*math.pi*genome[i])\n",
    "    return (10*n) + total"
   ]
  },
  {
   "cell_type": "code",
   "execution_count": 22,
   "metadata": {
    "collapsed": true
   },
   "outputs": [],
   "source": [
    "genome = G1DList.G1DList(20)\n",
    "genome.setParams(rangemin=-5.2, rangemax=5.3, bestrawscore=0.0, rounddecimal=1)\n",
    "genome.initializator.set(Initializators.G1DListInitializatorReal)\n",
    "genome.mutator.set(Mutators.G1DListMutatorRealGaussian)\n",
    "genome.evaluator.set(rastrigin)"
   ]
  },
  {
   "cell_type": "code",
   "execution_count": 23,
   "metadata": {
    "collapsed": true
   },
   "outputs": [],
   "source": [
    "from pyevolve import DBAdapters\n",
    "sqlite_adapter = DBAdapters.DBSQLite(dbname='rastrigin.db', identify=\"ex1\", resetDB=True)\n",
    "\n",
    "ga = GSimpleGA.GSimpleGA(genome)\n",
    "ga.terminationCriteria.set(GSimpleGA.RawScoreCriteria)\n",
    "ga.setMinimax(Consts.minimaxType[\"minimize\"])\n",
    "ga.setGenerations(500)\n",
    "ga.setCrossoverRate(0.8)\n",
    "ga.setPopulationSize(100)\n",
    "ga.setMutationRate(0.06)\n",
    "\n",
    "ga.setDBAdapter(sqlite_adapter)"
   ]
  },
  {
   "cell_type": "code",
   "execution_count": 24,
   "metadata": {
    "collapsed": false
   },
   "outputs": [
    {
     "name": "stdout",
     "output_type": "stream",
     "text": [
      "Gen. 0 (0.00%): Max/Min/Avg Fitness(Raw) [443.35(467.94)/292.44(266.81)/369.46(369.46)]\n",
      "Gen. 50 (10.00%): Max/Min/Avg Fitness(Raw) [19.95(28.85)/13.81(6.27)/16.62(16.62)]\n",
      "Gen. 100 (20.00%): Max/Min/Avg Fitness(Raw) [12.98(22.39)/8.86(0.37)/10.81(10.81)]\n",
      "\n",
      "\tEvolution stopped by Termination Criteria function !\n",
      "\n",
      "Gen. 122 (24.40%): Max/Min/Avg Fitness(Raw) [13.30(21.77)/8.79(0.05)/11.08(11.08)]\n",
      "Total time elapsed: 1.195 seconds.\n",
      "- GenomeBase\n",
      "\tScore:\t\t\t 0.049338\n",
      "\tFitness:\t\t 8.794796\n",
      "\n",
      "\tParams:\t\t {'rounddecimal': 1, 'bestrawscore': 0.0, 'rangemax': 5.3, 'rangemin': -5.2}\n",
      "\n",
      "\tSlot [Evaluator] (Count: 1)\n",
      "\t\tName: rastrigin - Weight: 0.50\n",
      "\tSlot [Initializator] (Count: 1)\n",
      "\t\tName: G1DListInitializatorReal - Weight: 0.50\n",
      "\t\tDoc:  Real initialization function of G1DList\n",
      "\n",
      "   This initializator accepts the *rangemin* and *rangemax* genome parameters.\n",
      "\n",
      "   \n",
      "\tSlot [Mutator] (Count: 1)\n",
      "\t\tName: G1DListMutatorRealGaussian - Weight: 0.50\n",
      "\t\tDoc:  The mutator of G1DList, Gaussian Mutator\n",
      "\n",
      "   Accepts the *rangemin* and *rangemax* genome parameters, both optional. Also\n",
      "   accepts the parameter *gauss_mu* and the *gauss_sigma* which respectively\n",
      "   represents the mean and the std. dev. of the random distribution.\n",
      "\n",
      "   \n",
      "\tSlot [Crossover] (Count: 1)\n",
      "\t\tName: G1DListCrossoverSinglePoint - Weight: 0.50\n",
      "\t\tDoc:  The crossover of G1DList, Single Point\n",
      "\n",
      "   .. warning:: You can't use this crossover method for lists with just one element.\n",
      "\n",
      "   \n",
      "\n",
      "- G1DList\n",
      "\tList size:\t 20\n",
      "\tList:\t\t [0.0006137560766442795, 0.0010440824648772808, -0.0028905485894115124, 0.0004796072756086374, -0.0014648098272757107, 0.0005763260329136825, 0.0037650885201536326, 0.0031872876152518187, 0.0004599123847671971, 0.0004967932988792813, -0.006693049943952097, -0.0010520103300941455, 0.001707533884835798, 0.004181071424716175, 0.008473396711076817, 0.006206285329285015, 0.0015882905299359398, -0.0010123847408741943, 0.00111091442598224, 0.005477201306385323]\n",
      "\n",
      "\n"
     ]
    }
   ],
   "source": [
    "ga.evolve(freq_stats=50)\n",
    "best = ga.bestIndividual()\n",
    "print best"
   ]
  },
  {
   "cell_type": "markdown",
   "metadata": {
    "collapsed": true
   },
   "source": [
    "You can check now the results by plotting some graphs of the evolution process in [this notebook](Rastrigin_check.ipynb)."
   ]
  }
 ],
 "metadata": {
  "anaconda-cloud": {},
  "kernelspec": {
   "display_name": "Python [Root]",
   "language": "python",
   "name": "Python [Root]"
  },
  "language_info": {
   "codemirror_mode": {
    "name": "ipython",
    "version": 2
   },
   "file_extension": ".py",
   "mimetype": "text/x-python",
   "name": "python",
   "nbconvert_exporter": "python",
   "pygments_lexer": "ipython2",
   "version": "2.7.12"
  }
 },
 "nbformat": 4,
 "nbformat_minor": 1
}
